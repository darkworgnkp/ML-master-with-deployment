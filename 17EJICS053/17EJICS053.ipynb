{
 "cells": [
  {
   "cell_type": "markdown",
   "metadata": {},
   "source": [
    "Write a Python program to create Fibonacci series upto n using Lambda?"
   ]
  },
  {
   "cell_type": "code",
   "execution_count": 19,
   "metadata": {},
   "outputs": [
    {
     "name": "stdout",
     "output_type": "stream",
     "text": [
      "Enter the range:5\n",
      "[0, 1, 1, 2, 3]\n"
     ]
    }
   ],
   "source": [
    "import functools as f\n",
    "def fibonacii(n):\n",
    "    p = []\n",
    "    if n == 1:\n",
    "        p = [0]\n",
    "    elif n > 1:\n",
    "        a=[0,1]\n",
    "        p = a\n",
    "        while n > 2:\n",
    "            l = f.reduce(lambda x,y:x+y,a)\n",
    "            p += [l]\n",
    "            a = p[-2:]\n",
    "            n -= 1\n",
    "    return p\n",
    "\n",
    "print(fibonacii(int(input(\"Enter the range:\"))))"
   ]
  },
  {
   "cell_type": "markdown",
   "metadata": {},
   "source": [
    "or"
   ]
  },
  {
   "cell_type": "code",
   "execution_count": 20,
   "metadata": {},
   "outputs": [
    {
     "name": "stdout",
     "output_type": "stream",
     "text": [
      "Enter the Range:5\n",
      "[0, 1, 1, 2, 3]\n"
     ]
    }
   ],
   "source": [
    "fibo = lambda x: 0 if x==0 else (1 if (x==1 or x==2) else fibo(x-2)+fibo(x-1))\n",
    "l = []\n",
    "n = int(input(\"Enter the Range:\"))\n",
    "for i in range(n):\n",
    "    l+=[fibo(i)]\n",
    "print(l)"
   ]
  },
  {
   "cell_type": "markdown",
   "metadata": {},
   "source": [
    "Q3.Write a Python function to check whether a number is perfect or not.\n",
    "(Perfect Number:  In number theory, a perfect number is a positive integer that is equal to the sum of its proper positive divisors, that is, the sum of its positive divisors excluding the number itself (also known as its aliquot sum). Equivalently, a perfect number is a number that is half the sum of all of its positive divisors (including itself).\n",
    "Example : The first perfect number is 6, because 1, 2, and 3 are its proper positive divisors, and 1 + 2 + 3 = 6. Equivalently, the number 6 is equal to half the sum of all its positive divisors: ( 1 + 2 + 3 + 6 ) / 2 = 6. The next perfect number is 28 = 1 + 2 + 4 + 7 + 14. This is followed by the perfect numbers 496 and 8128.)\n"
   ]
  },
  {
   "cell_type": "code",
   "execution_count": 41,
   "metadata": {},
   "outputs": [
    {
     "name": "stdout",
     "output_type": "stream",
     "text": [
      "Enter the Number:496\n",
      "Perfect\n"
     ]
    }
   ],
   "source": [
    "def pernum(n):\n",
    "    sum = 0\n",
    "    for x in range(1,n):\n",
    "        if n % x == 0:\n",
    "            sum += x\n",
    "    if sum == n and ((sum + n)//2) == n:\n",
    "        return True\n",
    "    else:\n",
    "        return False\n",
    "n = int(input(\"Enter the Number:\"))    \n",
    "if True if n == 1 else pernum(n):\n",
    "    print(\"Perfect\")\n",
    "else:\n",
    "    print(\"Not Perfect\")"
   ]
  },
  {
   "cell_type": "markdown",
   "metadata": {},
   "source": [
    "Python function that accepts a string and calculate the number of upper case letters and lower case letters\n"
   ]
  },
  {
   "cell_type": "code",
   "execution_count": 45,
   "metadata": {},
   "outputs": [
    {
     "name": "stdout",
     "output_type": "stream",
     "text": [
      "Enter the String:KartIk puRoHit$\n",
      "no. of Upper Case:4 and no. of Lower Case:9\n"
     ]
    }
   ],
   "source": [
    "def count_uplow(s):\n",
    "    cu=cl=0\n",
    "    for i in s:\n",
    "        if i.isupper():\n",
    "            cu += 1\n",
    "        elif i.islower():\n",
    "            cl += 1\n",
    "        else:\n",
    "            continue\n",
    "    return \"no. of Upper Case:\"+str(cu)+\" and no. of Lower Case:\"+str(cl)\n",
    "    \n",
    "print(count_uplow(input(\"Enter the String:\")))\n",
    "        "
   ]
  },
  {
   "cell_type": "markdown",
   "metadata": {},
   "source": [
    "Write a Python function that takes a list and returns a new list with unique elements of the first list.\n",
    " \n"
   ]
  },
  {
   "cell_type": "code",
   "execution_count": 52,
   "metadata": {},
   "outputs": [
    {
     "name": "stdout",
     "output_type": "stream",
     "text": [
      "Enter the list\n",
      "Enter list element( # to Exit ):1\n",
      "Enter list element( # to Exit ):1\n",
      "Enter list element( # to Exit ):1\n",
      "Enter list element( # to Exit ):1\n",
      "Enter list element( # to Exit ):2\n",
      "Enter list element( # to Exit ):2\n",
      "Enter list element( # to Exit ):#\n",
      "['1', '2']\n"
     ]
    }
   ],
   "source": [
    "def unq(l):\n",
    "    return list(set(l))\n",
    "\n",
    "print(\"Enter the list\")\n",
    "l = []\n",
    "while True:\n",
    "    t = input(\"Enter list element( # to Exit ):\")\n",
    "    if t == '#':\n",
    "        break\n",
    "    else:\n",
    "        l += [t]\n",
    "print(unq(l))"
   ]
  },
  {
   "cell_type": "markdown",
   "metadata": {},
   "source": [
    " Write a Python program to find palindromes in a given list of strings using Lambda."
   ]
  },
  {
   "cell_type": "code",
   "execution_count": 61,
   "metadata": {},
   "outputs": [
    {
     "name": "stdout",
     "output_type": "stream",
     "text": [
      "Enter the list\n",
      "Enter list element( # to Exit ):rar\n",
      "Enter list element( # to Exit ):121\n",
      "Enter list element( # to Exit ):565\n",
      "Enter list element( # to Exit ):latrt\n",
      "Enter list element( # to Exit ):kartik\n",
      "Enter list element( # to Exit ):lol\n",
      "Enter list element( # to Exit ):#$%$#\n",
      "Enter list element( # to Exit ):#\n",
      "Original list: ['rar', '121', '565', 'latrt', 'kartik', 'lol', '#$%$#']\n",
      "elements in list that are Palindome: ['rar', '121', '565', 'lol', '#$%$#']\n"
     ]
    }
   ],
   "source": [
    "def palin(l):\n",
    "    return list(filter(lambda x: x == x[-1::-1], l))\n",
    "    \n",
    "print(\"Enter the list\")\n",
    "l = []   \n",
    "while True:\n",
    "    t = input(\"Enter list element( # to Exit ):\")\n",
    "    if t == '#':\n",
    "        break\n",
    "    else:\n",
    "        l += [t]\n",
    "print(\"Original list:\", l)\n",
    "print(\"elements in list that are Palindome:\", palin(l))"
   ]
  },
  {
   "cell_type": "code",
   "execution_count": null,
   "metadata": {},
   "outputs": [],
   "source": []
  }
 ],
 "metadata": {
  "kernelspec": {
   "display_name": "Python 3",
   "language": "python",
   "name": "python3"
  },
  "language_info": {
   "codemirror_mode": {
    "name": "ipython",
    "version": 3
   },
   "file_extension": ".py",
   "mimetype": "text/x-python",
   "name": "python",
   "nbconvert_exporter": "python",
   "pygments_lexer": "ipython3",
   "version": "3.7.4"
  }
 },
 "nbformat": 4,
 "nbformat_minor": 2
}
