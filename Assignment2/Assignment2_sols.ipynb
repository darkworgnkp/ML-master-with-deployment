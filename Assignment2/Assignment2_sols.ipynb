{
 "cells": [
  {
   "cell_type": "markdown",
   "metadata": {},
   "source": [
    "Task 1: "
   ]
  },
  {
   "cell_type": "markdown",
   "metadata": {},
   "source": [
    "Write a Python Program to implement your own myreduce() function which works exactly like Python's built-in function reduce() \n",
    " \n",
    " "
   ]
  },
  {
   "cell_type": "markdown",
   "metadata": {},
   "source": [
    "?"
   ]
  },
  {
   "cell_type": "code",
   "execution_count": 1,
   "metadata": {},
   "outputs": [
    {
     "name": "stdout",
     "output_type": "stream",
     "text": [
      "-26\n",
      "-26\n"
     ]
    }
   ],
   "source": [
    "from functools import reduce\n",
    "def myreduce(fun, l):         # function created\n",
    "    temp = l[0]\n",
    "    for i in range(1,len(l)):\n",
    "        temp = fun(temp, l[i])\n",
    "    return temp\n",
    "\n",
    "\n",
    "print(myreduce(lambda x,y:x-y,[1,2,3,4,5,6,7])) #implemented own\n",
    "print(reduce(lambda x,y:x-y,[1,2,3,4,5,6,7])) #inbuilt\n"
   ]
  },
  {
   "cell_type": "markdown",
   "metadata": {},
   "source": [
    "Write a Python program to implement your own myfilter() function which works exactly like Python's built-in function filter() ?"
   ]
  },
  {
   "cell_type": "code",
   "execution_count": 2,
   "metadata": {},
   "outputs": [
    {
     "name": "stdout",
     "output_type": "stream",
     "text": [
      "[1, 4, 5, 6]\n",
      "[1, 4, 5, 6]\n"
     ]
    }
   ],
   "source": [
    "def myfilter(func, l):\n",
    "    for i in l:\n",
    "        if func(i):\n",
    "            yield i\n",
    "\n",
    "print(list(myfilter(lambda x:True if x not in [2,3] else False,[1,2,3,4,5,6])))#created one\n",
    "print(list(filter(lambda  x:True if x not in [2,3] else False,[1,2,3,4,5,6])))#inbuilt"
   ]
  },
  {
   "cell_type": "markdown",
   "metadata": {},
   "source": [
    "Implement List comprehensions to produce the following lists. \n",
    " \n",
    "Write List comprehensions to produce the following Lists \n",
    " \n",
    "['A', 'C', 'A', 'D', 'G', 'I', ’L’, ‘ D’] \n",
    " \n",
    "['x', 'xx', 'xxx', 'xxxx', 'y', 'yy', 'yyy', 'yyyy', 'z', 'zz', 'zzz', 'zzzz'] \n",
    " \n",
    "['x', 'y', 'z', 'xx', 'yy', 'zz', 'xxx', 'yyy', 'zzz', 'xxxx', 'yyyy', 'zzzz'] \n",
    "\n",
    "[[2], [3], [4], [3], [4], [5], [4], [5], [6]] \n",
    " \n",
    "[[2, 3, 4, 5], [3, 4, 5, 6], [4, 5, 6, 7], [5, 6, 7, 8]] \n",
    " \n",
    "[(1, 1), (2, 1), (3, 1), (1, 2), (2, 2), (3, 2), (1, 3), (2, 3), (3, 3)] "
   ]
  },
  {
   "cell_type": "code",
   "execution_count": 3,
   "metadata": {},
   "outputs": [
    {
     "name": "stdout",
     "output_type": "stream",
     "text": [
      "['A', 'C', 'A', 'D', 'G', 'I', 'L', 'D']\n",
      "['x', 'xx', 'xxx', 'xxxx', 'y', 'yy', 'yyy', 'yyyy', 'z', 'zz', 'zzz', 'zzzz']\n",
      "['x', 'y', 'z', 'xx', 'yy', 'zz', 'xxx', 'yyy', 'zzz', 'xxxx', 'yyyy', 'zzzz']\n",
      "[[2], [3], [4], [3], [4], [5], [4], [5], [6]]\n",
      "[[2, 3, 4, 5], [3, 4, 5, 6], [4, 5, 6, 7], [5, 6, 7, 8]]\n",
      "[(1, 1), (2, 1), (3, 1), (1, 2), (2, 2), (3, 2), (1, 3), (2, 3), (3, 3)]\n"
     ]
    }
   ],
   "source": [
    "print([i for i in \"ACADGILD\"])\n",
    "print([i * count for i in \"xyz\" for count in range(1, 5)])\n",
    "print([i * count for count in range(1, 5) for i in \"xyz\"])\n",
    "print([[j] for i in range(3) for j in range(2 + i, 5 + i)])\n",
    "print([[j for j in range(2 + i, 6 + i)] for i in range(4)])\n",
    "print([(x, y) for y in range(1, 4) for x in range(1, 4)])\n"
   ]
  },
  {
   "cell_type": "markdown",
   "metadata": {},
   "source": [
    "Implement a function longestWord() that takes a list of words and returns the longest one ?"
   ]
  },
  {
   "cell_type": "code",
   "execution_count": 5,
   "metadata": {},
   "outputs": [
    {
     "name": "stdout",
     "output_type": "stream",
     "text": [
      "siya balram chandra ki jai\n"
     ]
    }
   ],
   "source": [
    "from functools import reduce\n",
    "\n",
    "\n",
    "def longestWord(lst):\n",
    "    return reduce(lambda x, y: x if len(x)>len(y) else y, lst)\n",
    "\n",
    "\n",
    "lst = [\"ram\", \"shyam\", \"siya balram chandra ki jai\", \"hari om\", \"ram siya ram\"]\n",
    "print(longestWord(lst))\n"
   ]
  },
  {
   "cell_type": "markdown",
   "metadata": {},
   "source": [
    "Task 2: "
   ]
  },
  {
   "cell_type": "markdown",
   "metadata": {},
   "source": [
    "Write a Python Program(with class concepts) to find the area of the triangle using the below formula. \n",
    " \n",
    "area = (s*(s-a)*(s-b)*(s-c)) ** 0.5 \n",
    " \n",
    "Function to take the length of the sides of triangle from user should be defined in the parent class and function to calculate the area should be defined in subclass. "
   ]
  },
  {
   "cell_type": "code",
   "execution_count": 4,
   "metadata": {},
   "outputs": [
    {
     "name": "stdout",
     "output_type": "stream",
     "text": [
      "Area Of Triangle: 10.825317547305483 cmsq\n"
     ]
    }
   ],
   "source": [
    "class Triangle:\n",
    "    def __init__(self, a, b, c):\n",
    "        self.a = a\n",
    "        self.b = b\n",
    "        self.c = c\n",
    "\n",
    "\n",
    "class Area(Triangle):\n",
    "    def __init__(self, *args):\n",
    "        super(Area, self).__init__(*args)\n",
    "\n",
    "\n",
    "    def calc_area(self):\n",
    "        s = (self.a + self.b + self.c) / 2\n",
    "        area = (s * (s - self.a) * (s - self.b) * (s - self.c)) ** 0.5\n",
    "        return area\n",
    "\n",
    "\n",
    "a = Area(5, 5, 5)\n",
    "print(\"Area Of Triangle:\",a.calc_area(),\"cmsq\")\n"
   ]
  },
  {
   "cell_type": "markdown",
   "metadata": {},
   "source": [
    "Write a function filter_long_words() that takes a list of words and an integer n and returns the list \n",
    "of words that are longer than n. "
   ]
  },
  {
   "cell_type": "code",
   "execution_count": 1,
   "metadata": {},
   "outputs": [
    {
     "name": "stdout",
     "output_type": "stream",
     "text": [
      "['raman', 'harshit', 'shayam', 'subham']\n"
     ]
    }
   ],
   "source": [
    "def filter_long_words(lst, n):\n",
    "    return list(filter(lambda x: len(x) > n, lst))\n",
    "\n",
    "\n",
    "lst = [\"raman\", \"harshit\", \"shayam\", \"ravi\", \"fif\", \"a\", \"ac\", \"subham\"]\n",
    "print(filter_long_words(lst, 4))"
   ]
  },
  {
   "cell_type": "markdown",
   "metadata": {},
   "source": [
    "Write a Python program using function concept that maps  list of words into a list of integers \n",
    "representing the lengths of the corresponding words​. \n",
    " \n",
    "Hint: ​If a list [ ab,cde,erty] is passed on to the python function output should come as [2,3,4] \n",
    " \n",
    "Here 2,3 and 4 are the lengths of the words in the list. "
   ]
  },
  {
   "cell_type": "code",
   "execution_count": 2,
   "metadata": {},
   "outputs": [
    {
     "name": "stdout",
     "output_type": "stream",
     "text": [
      "[3, 5, 5, 5, 4, 12, 4]\n"
     ]
    }
   ],
   "source": [
    "def word_to_integer(lst):\n",
    "    return list(map(lambda x: len(x), lst))\n",
    "\n",
    "lst = [\"ram\",\"raman\",\"shyam\",\"geeta\",\"ravi\",\"shaifalikhan\",\"arun\"]\n",
    "print(word_to_integer(lst))"
   ]
  },
  {
   "cell_type": "markdown",
   "metadata": {},
   "source": [
    "Write a Python function which takes a character (i.e. a string of length 1) and returns True if it is \n",
    "a vowel, False otherwise. "
   ]
  },
  {
   "cell_type": "code",
   "execution_count": 3,
   "metadata": {},
   "outputs": [
    {
     "name": "stdout",
     "output_type": "stream",
     "text": [
      "Enter the Character:e\n",
      "True\n"
     ]
    }
   ],
   "source": [
    "def vowel(c):\n",
    "    if len(c) == 1:\n",
    "        return True if c in ['a', 'e', 'i', 'o', 'u', 'A', 'E', 'I', 'O', 'U'] else False\n",
    "    else:\n",
    "        print(\"Not a character!!!\")\n",
    "\n",
    "\n",
    "print(vowel(input(\"Enter the Character:\")))"
   ]
  },
  {
   "cell_type": "markdown",
   "metadata": {},
   "source": [
    "END"
   ]
  },
  {
   "cell_type": "code",
   "execution_count": null,
   "metadata": {},
   "outputs": [],
   "source": []
  }
 ],
 "metadata": {
  "kernelspec": {
   "display_name": "Python 3",
   "language": "python",
   "name": "python3"
  },
  "language_info": {
   "codemirror_mode": {
    "name": "ipython",
    "version": 3
   },
   "file_extension": ".py",
   "mimetype": "text/x-python",
   "name": "python",
   "nbconvert_exporter": "python",
   "pygments_lexer": "ipython3",
   "version": "3.7.4"
  }
 },
 "nbformat": 4,
 "nbformat_minor": 2
}
